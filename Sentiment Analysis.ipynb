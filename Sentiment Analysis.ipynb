{
 "cells": [
  {
   "cell_type": "code",
   "execution_count": 1,
   "metadata": {
    "collapsed": false
   },
   "outputs": [
    {
     "name": "stderr",
     "output_type": "stream",
     "text": [
      "C:\\Anaconda3\\lib\\site-packages\\nltk\\twitter\\__init__.py:20: UserWarning: The twython library has not been installed. Some functionality from the twitter package will not be available.\n",
      "  warnings.warn(\"The twython library has not been installed. \"\n"
     ]
    }
   ],
   "source": [
    "import nltk.sentiment\n",
    "import pandas as pd\n",
    "import sklearn.tree\n",
    "import sklearn.ensemble\n",
    "import sklearn.svm\n",
    "import re\n",
    "import math"
   ]
  },
  {
   "cell_type": "code",
   "execution_count": 5,
   "metadata": {
    "collapsed": false
   },
   "outputs": [],
   "source": [
    "# Read in the data\n",
    "\n",
    "# Must do it line by line due to error in Pandas' read_csv()\n",
    "with open(\"c:/users/alex/documents/Sentiment Analysis Dataset.csv\", 'r', encoding='utf-8') as f:\n",
    "    lines = f.readlines()\n",
    "    \n",
    "lines = [line.strip().split(\",\", maxsplit = 3) for line in lines]\n",
    "\n",
    "header = lines[0]\n",
    "del lines[0]\n",
    "\n",
    "data = pd.DataFrame(lines, columns = header)"
   ]
  },
  {
   "cell_type": "code",
   "execution_count": 7,
   "metadata": {
    "collapsed": false
   },
   "outputs": [],
   "source": [
    "# Normalize the text\n",
    "repl = lambda m: re.sub(r'(.)\\1+', r'\\1\\1', m) # Reduce instances of repeated characters     \n",
    "data[\"FilteredText\"] = data.SentimentText.str.lower().apply(repl)"
   ]
  },
  {
   "cell_type": "code",
   "execution_count": 8,
   "metadata": {
    "collapsed": false
   },
   "outputs": [],
   "source": [
    "from sklearn.feature_extraction.text import TfidfVectorizer"
   ]
  },
  {
   "cell_type": "code",
   "execution_count": 9,
   "metadata": {
    "collapsed": false
   },
   "outputs": [],
   "source": [
    "v = TfidfVectorizer(min_df = 1000) # A word must appear in at least 1000 tweets to be considered for tf-idf\n",
    "x = v.fit_transform(data.FilteredText) # Calculate all tf-idf values for each word in every tweet"
   ]
  },
  {
   "cell_type": "code",
   "execution_count": 10,
   "metadata": {
    "collapsed": false,
    "scrolled": true
   },
   "outputs": [],
   "source": [
    "X = pd.DataFrame(x.toarray()) # Reformat"
   ]
  },
  {
   "cell_type": "code",
   "execution_count": 12,
   "metadata": {
    "collapsed": true
   },
   "outputs": [],
   "source": [
    "from sklearn.model_selection import cross_val_score, GridSearchCV"
   ]
  },
  {
   "cell_type": "code",
   "execution_count": 11,
   "metadata": {
    "collapsed": false
   },
   "outputs": [],
   "source": [
    "# Do a grid search to find the best hyperparameters for the Random Forest\n",
    "\n",
    "#model = sklearn.ensemble.RandomForestClassifier()\n",
    "\n",
    "#parameters = {\n",
    "#    'n_estimators' : [1, 5, 10, 20, 30],\n",
    "#    'max_depth' : [1, 5, 10, 20, 30]\n",
    "#}\n",
    "#searcher = GridSearchCV(model, parameters, cv = 3, scoring=\"accuracy\", n_jobs = 6, verbose = 10000)\n",
    "#searcher.fit(x, data.Sentiment)\n",
    "#searcher.best_params_"
   ]
  },
  {
   "cell_type": "code",
   "execution_count": 16,
   "metadata": {
    "collapsed": false
   },
   "outputs": [
    {
     "data": {
      "text/plain": [
       "0.71355552961354662"
      ]
     },
     "execution_count": 16,
     "metadata": {},
     "output_type": "execute_result"
    }
   ],
   "source": [
    "model = sklearn.ensemble.RandomForestClassifier(max_depth = 30, n_estimators=20)\n",
    "cross_val_score(bestmodel, x, data.Sentiment, cv = 5).mean()"
   ]
  }
 ],
 "metadata": {
  "anaconda-cloud": {},
  "kernelspec": {
   "display_name": "Python [Root]",
   "language": "python",
   "name": "Python [Root]"
  },
  "language_info": {
   "codemirror_mode": {
    "name": "ipython",
    "version": 3
   },
   "file_extension": ".py",
   "mimetype": "text/x-python",
   "name": "python",
   "nbconvert_exporter": "python",
   "pygments_lexer": "ipython3",
   "version": "3.5.2"
  }
 },
 "nbformat": 4,
 "nbformat_minor": 2
}
